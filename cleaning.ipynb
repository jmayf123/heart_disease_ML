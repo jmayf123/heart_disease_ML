{
 "cells": [
  {
   "cell_type": "code",
   "execution_count": 3,
   "metadata": {},
   "outputs": [],
   "source": [
    "import pandas as pd\n",
    "import pyreadstat"
   ]
  },
  {
   "cell_type": "code",
   "execution_count": 4,
   "metadata": {},
   "outputs": [],
   "source": [
    "data = pyreadstat.read_xport('./data/CDC_BRFSS_data.XPT')"
   ]
  },
  {
   "cell_type": "code",
   "execution_count": 43,
   "metadata": {},
   "outputs": [],
   "source": [
    "df = data[0][['CVDCRHD4',\n",
    "        'BPHIGH6',\n",
    "        'TOLDHI3',\n",
    "        'CHOLCHK3',\n",
    "        '_BMI5',\n",
    "        'SMOKE100',\n",
    "        'CVDSTRK3',\n",
    "        '_TOTINDA',\n",
    "        '_FRTLT1A',\n",
    "        '_VEGLT1A',\n",
    "        '_RFDRHV7',\n",
    "        'PRIMINSR',\n",
    "        'MEDCOST1',\n",
    "        'GENHLTH',\n",
    "        'POORHLTH',\n",
    "        'PHYSHLTH',\n",
    "        'DIFFWALK',\n",
    "        'LANDSEX',\n",
    "        'CELLSEX',\n",
    "        'COLGSEX',\n",
    "        'BIRTHSEX',\n",
    "        '_AGEG5YR',\n",
    "        'EDUCA',\n",
    "        'INCOME3'\n",
    "        ]]"
   ]
  },
  {
   "cell_type": "code",
   "execution_count": 44,
   "metadata": {},
   "outputs": [
    {
     "data": {
      "text/plain": [
       "CVDCRHD4         2\n",
       "BPHIGH6          2\n",
       "TOLDHI3      60836\n",
       "CHOLCHK3         2\n",
       "_BMI5        46852\n",
       "SMOKE100     21232\n",
       "CVDSTRK3         2\n",
       "_TOTINDA         0\n",
       "_FRTLT1A         0\n",
       "_VEGLT1A         0\n",
       "_RFDRHV7         0\n",
       "PRIMINSR         3\n",
       "MEDCOST1         5\n",
       "GENHLTH          4\n",
       "POORHLTH    205279\n",
       "PHYSHLTH         3\n",
       "DIFFWALK     18009\n",
       "LANDSEX     388847\n",
       "CELLSEX     117788\n",
       "COLGSEX     438663\n",
       "BIRTHSEX    340191\n",
       "_AGEG5YR         0\n",
       "EDUCA            5\n",
       "INCOME3       8847\n",
       "dtype: int64"
      ]
     },
     "execution_count": 44,
     "metadata": {},
     "output_type": "execute_result"
    }
   ],
   "source": [
    "df.isna().sum()"
   ]
  },
  {
   "attachments": {},
   "cell_type": "markdown",
   "metadata": {},
   "source": [
    "Need to CHeck for M(1) or F(2) in all three columns of -SEX data columns"
   ]
  },
  {
   "cell_type": "code",
   "execution_count": null,
   "metadata": {},
   "outputs": [],
   "source": []
  }
 ],
 "metadata": {
  "kernelspec": {
   "display_name": "base",
   "language": "python",
   "name": "python3"
  },
  "language_info": {
   "codemirror_mode": {
    "name": "ipython",
    "version": 3
   },
   "file_extension": ".py",
   "mimetype": "text/x-python",
   "name": "python",
   "nbconvert_exporter": "python",
   "pygments_lexer": "ipython3",
   "version": "3.10.9"
  },
  "orig_nbformat": 4
 },
 "nbformat": 4,
 "nbformat_minor": 2
}
