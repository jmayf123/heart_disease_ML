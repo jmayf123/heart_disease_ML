{
 "cells": [
  {
   "cell_type": "code",
   "execution_count": 1,
   "metadata": {},
   "outputs": [],
   "source": [
    "import pandas as pd\n",
    "import pyreadstat\n",
    "import numpy as np"
   ]
  },
  {
   "cell_type": "code",
   "execution_count": 2,
   "metadata": {},
   "outputs": [],
   "source": [
    "data = pyreadstat.read_xport('./data/CDC_BRFSS_data.XPT')"
   ]
  },
  {
   "cell_type": "code",
   "execution_count": 3,
   "metadata": {},
   "outputs": [],
   "source": [
    "df = data[0][[\n",
    "        'CVDCRHD4', \n",
    "        'BPHIGH6',\n",
    "        'TOLDHI3',\n",
    "        'CHOLCHK3',\n",
    "        '_RFBMI5',\n",
    "        'SMOKE100',\n",
    "        'CVDSTRK3',\n",
    "        'DIABETE4',\n",
    "        '_TOTINDA',\n",
    "        '_FRTLT1A',\n",
    "        '_VEGLT1A',\n",
    "        '_RFDRHV7',\n",
    "        'PRIMINSR',\n",
    "        'MEDCOST1',\n",
    "        'GENHLTH',\n",
    "        '_RFHLTH',\n",
    "        'PHYSHLTH',\n",
    "        'DIFFWALK',\n",
    "        'SEXVAR',\n",
    "        '_AGEG5YR',\n",
    "        'EDUCA',\n",
    "        'INCOME3'\n",
    "        ]]"
   ]
  },
  {
   "cell_type": "code",
   "execution_count": 4,
   "metadata": {},
   "outputs": [],
   "source": [
    "# Initial drop of Nan rows\n",
    "df = df.dropna()"
   ]
  },
  {
   "cell_type": "code",
   "execution_count": 5,
   "metadata": {},
   "outputs": [],
   "source": [
    "# Independent Var - Heart Disease, Change to Yes = 1, No = 0, remove other values\n",
    "df['CVDCRHD4'] = df['CVDCRHD4'].replace({2:0})\n",
    "df = df[df['CVDCRHD4'].isin([1,0])]"
   ]
  },
  {
   "cell_type": "code",
   "execution_count": 6,
   "metadata": {},
   "outputs": [],
   "source": [
    "df['TOLDHI3'] = df['TOLDHI3'].replace({2:0})\n",
    "df = df[df['TOLDHI3'].isin([1,0])]"
   ]
  },
  {
   "cell_type": "code",
   "execution_count": 7,
   "metadata": {},
   "outputs": [],
   "source": [
    "df['_RFBMI5'] = df['_RFBMI5'].replace({1:0, 2:1})\n",
    "df = df[df['_RFBMI5'].isin([1,0])]"
   ]
  },
  {
   "cell_type": "code",
   "execution_count": 8,
   "metadata": {},
   "outputs": [],
   "source": [
    "df['SMOKE100'] = df['SMOKE100'].replace({2:0})\n",
    "df = df[df['SMOKE100'].isin([1,0])]"
   ]
  },
  {
   "cell_type": "code",
   "execution_count": 9,
   "metadata": {},
   "outputs": [],
   "source": [
    "df['CVDSTRK3'] = df['CVDSTRK3'].replace({2:0})\n",
    "df = df[df['CVDSTRK3'].isin([1,0])]"
   ]
  },
  {
   "cell_type": "code",
   "execution_count": 10,
   "metadata": {},
   "outputs": [],
   "source": [
    "df['_TOTINDA'] = df['_TOTINDA'].replace({2:0})\n",
    "df = df[df['_TOTINDA'].isin([1,0])]"
   ]
  },
  {
   "cell_type": "code",
   "execution_count": 11,
   "metadata": {},
   "outputs": [],
   "source": [
    "df['_FRTLT1A'] = df['_FRTLT1A'].replace({2:0})\n",
    "df = df[df['_FRTLT1A'].isin([1,0])]"
   ]
  },
  {
   "cell_type": "code",
   "execution_count": 12,
   "metadata": {},
   "outputs": [],
   "source": [
    "df['_VEGLT1A'] = df['_VEGLT1A'].replace({2:0})\n",
    "df = df[df['_VEGLT1A'].isin([1,0])]"
   ]
  },
  {
   "cell_type": "code",
   "execution_count": 13,
   "metadata": {},
   "outputs": [],
   "source": [
    "# This one is backwards, it lives as 1-No 2-Yes, need to switch\n",
    "df['_RFDRHV7'] = df['_RFDRHV7'].replace({1:0, 2:1})\n",
    "df = df[df['_RFDRHV7'].isin([1,0])]"
   ]
  },
  {
   "cell_type": "code",
   "execution_count": 14,
   "metadata": {},
   "outputs": [],
   "source": [
    "df['MEDCOST1'] = df['MEDCOST1'].replace({2:0})\n",
    "df = df[df['MEDCOST1'].isin([1,0])]"
   ]
  },
  {
   "cell_type": "code",
   "execution_count": 15,
   "metadata": {},
   "outputs": [],
   "source": [
    "df['_RFHLTH'] = df['_RFHLTH'].replace({2:0})\n",
    "df = df[df['_RFHLTH'].isin([1,0])]"
   ]
  },
  {
   "cell_type": "code",
   "execution_count": 16,
   "metadata": {},
   "outputs": [],
   "source": [
    "# Get rid of 77 and 99 codes, change 88 to 0\n",
    "df['PHYSHLTH'] = df['PHYSHLTH'].replace({88:0})\n",
    "df = df[~df['PHYSHLTH'].isin([77,99])]"
   ]
  },
  {
   "cell_type": "code",
   "execution_count": 17,
   "metadata": {},
   "outputs": [],
   "source": [
    "df['DIFFWALK'] = df['DIFFWALK'].replace({2:0})\n",
    "df = df[df['DIFFWALK'].isin([1,0])]"
   ]
  },
  {
   "cell_type": "code",
   "execution_count": 18,
   "metadata": {},
   "outputs": [],
   "source": [
    "# Change to 1 = Male , 0 = Female \n",
    "df['SEXVAR'] = df['SEXVAR'].replace({2:0})\n",
    "df = df[df['SEXVAR'].isin([1,0])]"
   ]
  },
  {
   "cell_type": "code",
   "execution_count": 19,
   "metadata": {},
   "outputs": [],
   "source": [
    "# Make dummy columns for categories that Have more than a Yes or No answer\n",
    "df_dummies = pd.get_dummies(data=df, columns=['BPHIGH6',\n",
    "                                'CHOLCHK3',\n",
    "                                'DIABETE4',\n",
    "                                'PRIMINSR',\n",
    "                                'GENHLTH',\n",
    "                                '_AGEG5YR',\n",
    "                                'EDUCA',\n",
    "                                'INCOME3']\n",
    "            )"
   ]
  },
  {
   "cell_type": "code",
   "execution_count": 20,
   "metadata": {},
   "outputs": [],
   "source": [
    "# Remove Dummy columns that have answer = Don't Know or refused answer \n",
    "df_dummies = df_dummies.drop(columns=[\n",
    "                                        'BPHIGH6_7.0',\n",
    "                                        'BPHIGH6_9.0',\n",
    "                                        'DIABETE4_7.0',\n",
    "                                        'DIABETE4_9.0',\n",
    "                                        'PRIMINSR_77.0',\n",
    "                                        'PRIMINSR_99.0',\n",
    "                                        # 'GENHLTH_7.0',\n",
    "                                        # 'GENHLTH_9.0'\n",
    "                                        '_AGEG5YR_14.0',\n",
    "                                        'EDUCA_9.0',\n",
    "                                        'INCOME3_77.0',\n",
    "                                        'INCOME3_99.0'\n",
    "                                        ]) "
   ]
  },
  {
   "attachments": {},
   "cell_type": "markdown",
   "metadata": {},
   "source": [
    "Now every column is in terms of 1 = Yes , 0 = No , or for PHYSHLTH - continuous var 0-30 days of bad health days"
   ]
  }
 ],
 "metadata": {
  "kernelspec": {
   "display_name": "base",
   "language": "python",
   "name": "python3"
  },
  "language_info": {
   "codemirror_mode": {
    "name": "ipython",
    "version": 3
   },
   "file_extension": ".py",
   "mimetype": "text/x-python",
   "name": "python",
   "nbconvert_exporter": "python",
   "pygments_lexer": "ipython3",
   "version": "3.10.9"
  },
  "orig_nbformat": 4
 },
 "nbformat": 4,
 "nbformat_minor": 2
}
