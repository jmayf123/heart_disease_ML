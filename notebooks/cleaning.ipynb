{
 "cells": [
  {
   "cell_type": "code",
   "execution_count": 2,
   "metadata": {},
   "outputs": [],
   "source": [
    "import pandas as pd\n",
    "import pyreadstat\n",
    "import numpy as np"
   ]
  },
  {
   "cell_type": "code",
   "execution_count": 3,
   "metadata": {},
   "outputs": [],
   "source": [
    "data = pyreadstat.read_xport('../data/CDC_BRFSS_data.XPT')"
   ]
  },
  {
   "cell_type": "code",
   "execution_count": 4,
   "metadata": {},
   "outputs": [],
   "source": [
    "df = data[0][[\n",
    "        'CVDCRHD4', \n",
    "        'BPHIGH6',\n",
    "        'TOLDHI3',\n",
    "        'CHOLCHK3',\n",
    "        '_RFBMI5',\n",
    "        'SMOKE100',\n",
    "        'CVDSTRK3',\n",
    "        'DIABETE4',\n",
    "        '_TOTINDA',\n",
    "        '_FRTLT1A',\n",
    "        '_VEGLT1A',\n",
    "        '_RFDRHV7',\n",
    "        'PRIMINSR',\n",
    "        'MEDCOST1',\n",
    "        'GENHLTH',\n",
    "        '_RFHLTH',\n",
    "        'PHYSHLTH',\n",
    "        'DIFFWALK',\n",
    "        'SEXVAR',\n",
    "        '_AGEG5YR',\n",
    "        'EDUCA',\n",
    "        'INCOME3'\n",
    "        ]]"
   ]
  },
  {
   "cell_type": "code",
   "execution_count": 5,
   "metadata": {},
   "outputs": [],
   "source": [
    "# Initial drop of Nan rows\n",
    "df = df.dropna()"
   ]
  },
  {
   "cell_type": "code",
   "execution_count": 6,
   "metadata": {},
   "outputs": [],
   "source": [
    "# Independent Var - Heart Disease, Change to Yes = 1, No = 0, remove other values\n",
    "df['CVDCRHD4'] = df['CVDCRHD4'].replace({2:0})\n",
    "df = df[df['CVDCRHD4'].isin([1,0])]"
   ]
  },
  {
   "cell_type": "code",
   "execution_count": 7,
   "metadata": {},
   "outputs": [],
   "source": [
    "df['TOLDHI3'] = df['TOLDHI3'].replace({2:0})\n",
    "df = df[df['TOLDHI3'].isin([1,0])]"
   ]
  },
  {
   "cell_type": "code",
   "execution_count": 8,
   "metadata": {},
   "outputs": [],
   "source": [
    "df['_RFBMI5'] = df['_RFBMI5'].replace({1:0, 2:1})\n",
    "df = df[df['_RFBMI5'].isin([1,0])]"
   ]
  },
  {
   "cell_type": "code",
   "execution_count": 9,
   "metadata": {},
   "outputs": [],
   "source": [
    "df['SMOKE100'] = df['SMOKE100'].replace({2:0})\n",
    "df = df[df['SMOKE100'].isin([1,0])]"
   ]
  },
  {
   "cell_type": "code",
   "execution_count": 10,
   "metadata": {},
   "outputs": [],
   "source": [
    "df['CVDSTRK3'] = df['CVDSTRK3'].replace({2:0})\n",
    "df = df[df['CVDSTRK3'].isin([1,0])]"
   ]
  },
  {
   "cell_type": "code",
   "execution_count": 11,
   "metadata": {},
   "outputs": [],
   "source": [
    "df['_TOTINDA'] = df['_TOTINDA'].replace({2:0})\n",
    "df = df[df['_TOTINDA'].isin([1,0])]"
   ]
  },
  {
   "cell_type": "code",
   "execution_count": 12,
   "metadata": {},
   "outputs": [],
   "source": [
    "df['_FRTLT1A'] = df['_FRTLT1A'].replace({2:0})\n",
    "df = df[df['_FRTLT1A'].isin([1,0])]"
   ]
  },
  {
   "cell_type": "code",
   "execution_count": 13,
   "metadata": {},
   "outputs": [],
   "source": [
    "df['_VEGLT1A'] = df['_VEGLT1A'].replace({2:0})\n",
    "df = df[df['_VEGLT1A'].isin([1,0])]"
   ]
  },
  {
   "cell_type": "code",
   "execution_count": 14,
   "metadata": {},
   "outputs": [],
   "source": [
    "# This one is backwards, it lives as 1-No 2-Yes, need to switch\n",
    "df['_RFDRHV7'] = df['_RFDRHV7'].replace({1:0, 2:1})\n",
    "df = df[df['_RFDRHV7'].isin([1,0])]"
   ]
  },
  {
   "cell_type": "code",
   "execution_count": 15,
   "metadata": {},
   "outputs": [],
   "source": [
    "df['MEDCOST1'] = df['MEDCOST1'].replace({2:0})\n",
    "df = df[df['MEDCOST1'].isin([1,0])]"
   ]
  },
  {
   "cell_type": "code",
   "execution_count": 16,
   "metadata": {},
   "outputs": [],
   "source": [
    "df['_RFHLTH'] = df['_RFHLTH'].replace({2:0})\n",
    "df = df[df['_RFHLTH'].isin([1,0])]"
   ]
  },
  {
   "cell_type": "code",
   "execution_count": 17,
   "metadata": {},
   "outputs": [],
   "source": [
    "# Get rid of 77 and 99 codes, change 88 to 0\n",
    "df['PHYSHLTH'] = df['PHYSHLTH'].replace({88:0})\n",
    "df = df[~df['PHYSHLTH'].isin([77,99])]"
   ]
  },
  {
   "cell_type": "code",
   "execution_count": 18,
   "metadata": {},
   "outputs": [],
   "source": [
    "df['DIFFWALK'] = df['DIFFWALK'].replace({2:0})\n",
    "df = df[df['DIFFWALK'].isin([1,0])]"
   ]
  },
  {
   "cell_type": "code",
   "execution_count": 19,
   "metadata": {},
   "outputs": [],
   "source": [
    "# Change to 1 = Male , 0 = Female \n",
    "df['SEXVAR'] = df['SEXVAR'].replace({2:0})\n",
    "df = df[df['SEXVAR'].isin([1,0])]"
   ]
  },
  {
   "cell_type": "code",
   "execution_count": 20,
   "metadata": {},
   "outputs": [],
   "source": [
    "new_cols = [\n",
    "    'Heart_Disease',\n",
    "    'High_BP',\n",
    "    'High_Cholesterol',\n",
    "    'Cholesterol_Checked',\n",
    "    'Overweight',\n",
    "    'Smoke_100',\n",
    "    'Stroke',\n",
    "    'Diabetes',\n",
    "    'Phys_Activity_30days',\n",
    "    'Fruit',\n",
    "    'Vegetable',\n",
    "    'Heavy_Drinker',\n",
    "    'Health_Insurance',\n",
    "    'Afford_Doctor_12mo',\n",
    "    'General_Health',\n",
    "    'Good_or_Bad_Health',\n",
    "    'Days_Bad_Health_30days',\n",
    "    'Difficulty_Walking',\n",
    "    'Sex',\n",
    "    'Age_Category',\n",
    "    'Education_Level',\n",
    "    'Income_Level'\n",
    "]"
   ]
  },
  {
   "cell_type": "code",
   "execution_count": 21,
   "metadata": {},
   "outputs": [],
   "source": [
    "df = df.set_axis(labels = new_cols, axis = 1, copy=False)"
   ]
  },
  {
   "cell_type": "code",
   "execution_count": 22,
   "metadata": {},
   "outputs": [
    {
     "data": {
      "text/plain": [
       "['Heart_Disease',\n",
       " 'High_BP',\n",
       " 'High_Cholesterol',\n",
       " 'Cholesterol_Checked',\n",
       " 'Overweight',\n",
       " 'Smoke_100',\n",
       " 'Stroke',\n",
       " 'Diabetes',\n",
       " 'Phys_Activity_30days',\n",
       " 'Fruit',\n",
       " 'Vegetable',\n",
       " 'Heavy_Drinker',\n",
       " 'Health_Insurance',\n",
       " 'Afford_Doctor_12mo',\n",
       " 'General_Health',\n",
       " 'Good_or_Bad_Health',\n",
       " 'Days_Bad_Health_30days',\n",
       " 'Difficulty_Walking',\n",
       " 'Sex',\n",
       " 'Age_Category',\n",
       " 'Education_Level',\n",
       " 'Income_Level']"
      ]
     },
     "execution_count": 22,
     "metadata": {},
     "output_type": "execute_result"
    }
   ],
   "source": [
    "df.columns.to_list()"
   ]
  },
  {
   "cell_type": "code",
   "execution_count": 23,
   "metadata": {},
   "outputs": [],
   "source": [
    "df.to_csv('../data/cleaned_data.csv')"
   ]
  },
  {
   "cell_type": "code",
   "execution_count": 24,
   "metadata": {},
   "outputs": [],
   "source": [
    "# Make dummy columns for categories that Have more than a Yes or No answer\n",
    "df_dummies = pd.get_dummies(data=df, columns=['High_BP',\n",
    "                                                'Cholesterol_Checked',\n",
    "                                                'Diabetes',\n",
    "                                                'Health_Insurance',\n",
    "                                                'General_Health',\n",
    "                                                'Age_Category',\n",
    "                                                'Education_Level',\n",
    "                                                'Income_Level'] \n",
    ")"
   ]
  },
  {
   "cell_type": "code",
   "execution_count": 25,
   "metadata": {},
   "outputs": [],
   "source": [
    "# Remove Dummy columns that have answer = Don't Know or refused answer \n",
    "df_dummies = df_dummies.drop(columns=[\n",
    "                                        'High_BP_7.0',\n",
    "                                        'High_BP_9.0',\n",
    "                                        'Diabetes_7.0',\n",
    "                                        'Diabetes_9.0',\n",
    "                                        'Health_Insurance_77.0',\n",
    "                                        'Health_Insurance_99.0',\n",
    "                                        # 'GENHLTH_7.0',\n",
    "                                        # 'GENHLTH_9.0'\n",
    "                                        'Age_Category_14.0',\n",
    "                                        'Education_Level_9.0',\n",
    "                                        'Income_Level_77.0',\n",
    "                                        'Income_Level_99.0'\n",
    "                                        ]) "
   ]
  },
  {
   "cell_type": "code",
   "execution_count": 26,
   "metadata": {},
   "outputs": [
    {
     "data": {
      "text/plain": [
       "['Heart_Disease',\n",
       " 'High_Cholesterol',\n",
       " 'Overweight',\n",
       " 'Smoke_100',\n",
       " 'Stroke',\n",
       " 'Phys_Activity_30days',\n",
       " 'Fruit',\n",
       " 'Vegetable',\n",
       " 'Heavy_Drinker',\n",
       " 'Afford_Doctor_12mo',\n",
       " 'Good_or_Bad_Health',\n",
       " 'Days_Bad_Health_30days',\n",
       " 'Difficulty_Walking',\n",
       " 'Sex',\n",
       " 'High_BP_1.0',\n",
       " 'High_BP_2.0',\n",
       " 'High_BP_3.0',\n",
       " 'High_BP_4.0',\n",
       " 'Cholesterol_Checked_2.0',\n",
       " 'Cholesterol_Checked_3.0',\n",
       " 'Cholesterol_Checked_4.0',\n",
       " 'Cholesterol_Checked_5.0',\n",
       " 'Cholesterol_Checked_6.0',\n",
       " 'Cholesterol_Checked_7.0',\n",
       " 'Cholesterol_Checked_8.0',\n",
       " 'Diabetes_1.0',\n",
       " 'Diabetes_2.0',\n",
       " 'Diabetes_3.0',\n",
       " 'Diabetes_4.0',\n",
       " 'Health_Insurance_1.0',\n",
       " 'Health_Insurance_2.0',\n",
       " 'Health_Insurance_3.0',\n",
       " 'Health_Insurance_4.0',\n",
       " 'Health_Insurance_5.0',\n",
       " 'Health_Insurance_6.0',\n",
       " 'Health_Insurance_7.0',\n",
       " 'Health_Insurance_8.0',\n",
       " 'Health_Insurance_9.0',\n",
       " 'Health_Insurance_10.0',\n",
       " 'Health_Insurance_88.0',\n",
       " 'General_Health_1.0',\n",
       " 'General_Health_2.0',\n",
       " 'General_Health_3.0',\n",
       " 'General_Health_4.0',\n",
       " 'General_Health_5.0',\n",
       " 'Age_Category_1.0',\n",
       " 'Age_Category_2.0',\n",
       " 'Age_Category_3.0',\n",
       " 'Age_Category_4.0',\n",
       " 'Age_Category_5.0',\n",
       " 'Age_Category_6.0',\n",
       " 'Age_Category_7.0',\n",
       " 'Age_Category_8.0',\n",
       " 'Age_Category_9.0',\n",
       " 'Age_Category_10.0',\n",
       " 'Age_Category_11.0',\n",
       " 'Age_Category_12.0',\n",
       " 'Age_Category_13.0',\n",
       " 'Education_Level_1.0',\n",
       " 'Education_Level_2.0',\n",
       " 'Education_Level_3.0',\n",
       " 'Education_Level_4.0',\n",
       " 'Education_Level_5.0',\n",
       " 'Education_Level_6.0',\n",
       " 'Income_Level_1.0',\n",
       " 'Income_Level_2.0',\n",
       " 'Income_Level_3.0',\n",
       " 'Income_Level_4.0',\n",
       " 'Income_Level_5.0',\n",
       " 'Income_Level_6.0',\n",
       " 'Income_Level_7.0',\n",
       " 'Income_Level_8.0',\n",
       " 'Income_Level_9.0',\n",
       " 'Income_Level_10.0',\n",
       " 'Income_Level_11.0']"
      ]
     },
     "execution_count": 26,
     "metadata": {},
     "output_type": "execute_result"
    }
   ],
   "source": [
    "df_dummies.columns.to_list()"
   ]
  },
  {
   "attachments": {},
   "cell_type": "markdown",
   "metadata": {},
   "source": [
    "Now every column is in terms of 1 = Yes , 0 = No , Except PHYSHLTH - continuous var 0-30 days of bad health days - Use standard scaler on model building notebook"
   ]
  },
  {
   "cell_type": "code",
   "execution_count": 30,
   "metadata": {},
   "outputs": [],
   "source": [
    "df_dummies.reset_index().drop(columns='index').to_csv('../data/cleaned_data_ML.csv')"
   ]
  }
 ],
 "metadata": {
  "kernelspec": {
   "display_name": "base",
   "language": "python",
   "name": "python3"
  },
  "language_info": {
   "codemirror_mode": {
    "name": "ipython",
    "version": 3
   },
   "file_extension": ".py",
   "mimetype": "text/x-python",
   "name": "python",
   "nbconvert_exporter": "python",
   "pygments_lexer": "ipython3",
   "version": "3.10.9"
  },
  "orig_nbformat": 4
 },
 "nbformat": 4,
 "nbformat_minor": 2
}
